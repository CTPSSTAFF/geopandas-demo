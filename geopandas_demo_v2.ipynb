{
 "cells": [
  {
   "cell_type": "markdown",
   "id": "4b67d1aa",
   "metadata": {},
   "source": [
    "## Demo of geopandas:\n",
    "### Calculate total quarter-mile service area of all heavy-rail Red Line stations"
   ]
  },
  {
   "cell_type": "code",
   "execution_count": null,
   "id": "851233b3",
   "metadata": {},
   "outputs": [],
   "source": [
    "import geopandas as gp"
   ]
  },
  {
   "cell_type": "code",
   "execution_count": null,
   "id": "3d15b0bb",
   "metadata": {},
   "outputs": [],
   "source": [
    "def make_gdf_from_wfs_request(base_url, typename_parm):\n",
    "    request_url = base_url + '?' + 'service=wfs'\n",
    "    request_url += '&request=getfeature'\n",
    "    request_url += '&typename=' + typename_parm\n",
    "    request_url += '&outputformat=json'\n",
    "    gdf = gp.read_file(request_url)\n",
    "    return gdf"
   ]
  },
  {
   "cell_type": "code",
   "execution_count": null,
   "id": "dabe89cf",
   "metadata": {},
   "outputs": [],
   "source": [
    "# MassGIS WFS base URL\n",
    "massgis_base_url = 'https://gis-prod.digital.mass.gov/geoserver/wfs'"
   ]
  },
  {
   "cell_type": "code",
   "execution_count": null,
   "id": "162acbd0",
   "metadata": {},
   "outputs": [],
   "source": [
    "stations_gdf = make_gdf_from_wfs_request(massgis_base_url, 'massgis:GISDATA.MBTA_NODE')"
   ]
  },
  {
   "cell_type": "code",
   "execution_count": null,
   "id": "b0e19549",
   "metadata": {},
   "outputs": [],
   "source": [
    "stations_gdf.plot()"
   ]
  },
  {
   "cell_type": "code",
   "execution_count": null,
   "id": "6bc507a0",
   "metadata": {},
   "outputs": [],
   "source": [
    "stations_gdf.explore()"
   ]
  },
  {
   "cell_type": "markdown",
   "id": "c847434a",
   "metadata": {},
   "source": [
    "### Aside: The read_file method is polymorphic. You don't have to specify the format of the data to be loaded!"
   ]
  },
  {
   "cell_type": "code",
   "execution_count": null,
   "id": "fcd64498",
   "metadata": {},
   "outputs": [],
   "source": [
    "# Let's load a shapefile...\n",
    "rpas_gdf = gp.read_file(\"data/RPAS_POLY.shp\")"
   ]
  },
  {
   "cell_type": "code",
   "execution_count": null,
   "id": "9456f7e0",
   "metadata": {},
   "outputs": [],
   "source": [
    "rpas_gdf.explore()"
   ]
  },
  {
   "cell_type": "markdown",
   "id": "b072d498",
   "metadata": {},
   "source": [
    "### Back to our main topic...\n",
    "### Let's take a look at the Red Line stations in our geodataframe."
   ]
  },
  {
   "cell_type": "code",
   "execution_count": null,
   "id": "0b49aa67",
   "metadata": {
    "scrolled": true
   },
   "outputs": [],
   "source": [
    "stations_gdf[stations_gdf['line'] == 'RED']"
   ]
  },
  {
   "cell_type": "markdown",
   "id": "636c5fb4",
   "metadata": {},
   "source": [
    "### What happened to Park Street (and Downtown Crossing)?"
   ]
  },
  {
   "cell_type": "code",
   "execution_count": null,
   "id": "4453db34",
   "metadata": {},
   "outputs": [],
   "source": [
    "stations_gdf[stations_gdf['station'].str.contains('Park')]"
   ]
  },
  {
   "cell_type": "markdown",
   "id": "44d8fd34",
   "metadata": {},
   "source": [
    "### We need to refine our query:\n",
    "##### 1. A more effective filter on 'line'\n",
    "##### 2. Filter out Mattapan Trolley (light rail) stations"
   ]
  },
  {
   "cell_type": "code",
   "execution_count": null,
   "id": "3d34a8c2",
   "metadata": {
    "scrolled": true
   },
   "outputs": [],
   "source": [
    "# A more effective filter on 'line'\n",
    "temp_gdf = stations_gdf[stations_gdf['line'].str.contains('RED')]\n",
    "temp_gdf"
   ]
  },
  {
   "cell_type": "code",
   "execution_count": null,
   "id": "3f0a8b5f",
   "metadata": {},
   "outputs": [],
   "source": [
    "# Filter out Mattapan Trolley stations\n",
    "temp_gdf[~temp_gdf['route'].str.contains('Mattapan')]"
   ]
  },
  {
   "cell_type": "markdown",
   "id": "ae64a502",
   "metadata": {},
   "source": [
    "#### We can combine the two parts of the query into a single query"
   ]
  },
  {
   "cell_type": "code",
   "execution_count": null,
   "id": "b246f7dc",
   "metadata": {},
   "outputs": [],
   "source": [
    "stations_red = stations_gdf[(stations_gdf['line'].str.contains('RED')) & (~stations_gdf['route'].str.contains('Mattapan'))]"
   ]
  },
  {
   "cell_type": "code",
   "execution_count": null,
   "id": "5051a893",
   "metadata": {},
   "outputs": [],
   "source": [
    "stations_red.plot()"
   ]
  },
  {
   "cell_type": "code",
   "execution_count": null,
   "id": "c88fa787",
   "metadata": {},
   "outputs": [],
   "source": [
    "# Calculate the quarter-mile service area of each staion\n",
    "quarter_mile_in_meters = 0.25 *  1609.344\n",
    "buf = stations_red.buffer(quarter_mile_in_meters)"
   ]
  },
  {
   "cell_type": "code",
   "execution_count": null,
   "id": "5eddf9ff",
   "metadata": {},
   "outputs": [],
   "source": [
    "buf.head()"
   ]
  },
  {
   "cell_type": "code",
   "execution_count": null,
   "id": "1bfc478a",
   "metadata": {},
   "outputs": [],
   "source": [
    "# The 'buffer' method returns a GeoSeries; turn it into a GeoDataFrame.\n",
    "buf_gdf = gp.GeoDataFrame(gp.GeoSeries(buf))\n",
    "buf_gdf = buf_gdf.rename(columns={0:'geometry'}).set_geometry('geometry')"
   ]
  },
  {
   "cell_type": "code",
   "execution_count": null,
   "id": "5f0f8292",
   "metadata": {},
   "outputs": [],
   "source": [
    "buf_gdf.head()"
   ]
  },
  {
   "cell_type": "code",
   "execution_count": null,
   "id": "aaf89200",
   "metadata": {},
   "outputs": [],
   "source": [
    "buf_gdf.explore()"
   ]
  },
  {
   "cell_type": "code",
   "execution_count": null,
   "id": "c9616676",
   "metadata": {},
   "outputs": [],
   "source": [
    "# Dissolve buffers\n",
    "buf_gdf = buf_gdf.dissolve()"
   ]
  },
  {
   "cell_type": "code",
   "execution_count": null,
   "id": "23cf0598",
   "metadata": {},
   "outputs": [],
   "source": [
    "buf_gdf.explore()"
   ]
  },
  {
   "cell_type": "markdown",
   "id": "27bde763",
   "metadata": {},
   "source": [
    "#### A service area over open water shouldn't be counted"
   ]
  },
  {
   "cell_type": "code",
   "execution_count": null,
   "id": "490fad78",
   "metadata": {},
   "outputs": [],
   "source": [
    "# Create a polygon feature to clip out all \"open water\"\n",
    "towns_gdf = make_gdf_from_wfs_request(massgis_base_url, 'massgis:GISDATA.TOWNSSURVEY_POLY')\n",
    "towns_gdf = towns_gdf[towns_gdf['coastal_poly'] == 'NO']\n",
    "clipping_gdf = towns_gdf.dissolve()"
   ]
  },
  {
   "cell_type": "code",
   "execution_count": null,
   "id": "a2113956",
   "metadata": {},
   "outputs": [],
   "source": [
    "buf_gdf_clipped = buf_gdf.clip(clipping_gdf)"
   ]
  },
  {
   "cell_type": "code",
   "execution_count": null,
   "id": "293d6235",
   "metadata": {},
   "outputs": [],
   "source": [
    "buf_gdf_clipped.explore()"
   ]
  },
  {
   "cell_type": "code",
   "execution_count": null,
   "id": "1ad956b6",
   "metadata": {},
   "outputs": [],
   "source": [
    "# Get total of all quarter-mile service areas, in square miles\n",
    "# Recall: SRS of data uses 'meters' as unit of measure\n",
    "SQ_METERS_TO_SQ_MILES_FACTOR = 0.00000038610\n",
    "buf_gdf_clipped['area_sq_mi'] = buf_gdf_clipped.area * SQ_METERS_TO_SQ_MILES_FACTOR"
   ]
  },
  {
   "cell_type": "code",
   "execution_count": null,
   "id": "98665c92",
   "metadata": {},
   "outputs": [],
   "source": [
    "buf_gdf_clipped"
   ]
  },
  {
   "cell_type": "code",
   "execution_count": null,
   "id": "e43b39f6",
   "metadata": {},
   "outputs": [],
   "source": []
  }
 ],
 "metadata": {
  "kernelspec": {
   "display_name": "Python 3 (ipykernel)",
   "language": "python",
   "name": "python3"
  },
  "language_info": {
   "codemirror_mode": {
    "name": "ipython",
    "version": 3
   },
   "file_extension": ".py",
   "mimetype": "text/x-python",
   "name": "python",
   "nbconvert_exporter": "python",
   "pygments_lexer": "ipython3",
   "version": "3.10.9"
  }
 },
 "nbformat": 4,
 "nbformat_minor": 5
}
