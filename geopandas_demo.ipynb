{
 "cells": [
  {
   "cell_type": "markdown",
   "id": "4b67d1aa",
   "metadata": {},
   "source": [
    "## Demo of geopandas:\n",
    "### Calculate total quarter-mile service area of all heavy-rail Red Line stations"
   ]
  },
  {
   "cell_type": "code",
   "execution_count": null,
   "id": "851233b3",
   "metadata": {},
   "outputs": [],
   "source": [
    "import geopandas as gp"
   ]
  },
  {
   "cell_type": "code",
   "execution_count": null,
   "id": "e79a84d0",
   "metadata": {},
   "outputs": [],
   "source": [
    "def make_gdf_from_wfs_request(base_url, typename_parm):\n",
    "    request_url = base_url + '?' + 'service=wfs'\n",
    "    request_url += '&request=getfeature'\n",
    "    request_url += '&typename=' + typename_parm\n",
    "    request_url += '&outputformat=json'\n",
    "    gdf = gp.read_file(request_url)\n",
    "    return gdf"
   ]
  },
  {
   "cell_type": "code",
   "execution_count": null,
   "id": "dabe89cf",
   "metadata": {},
   "outputs": [],
   "source": [
    "# MassGIS WFS base URL\n",
    "massgis_base_url = 'https://gis-prod.digital.mass.gov/geoserver/wfs'"
   ]
  },
  {
   "cell_type": "code",
   "execution_count": null,
   "id": "704ea147",
   "metadata": {},
   "outputs": [],
   "source": [
    "stations_gdf = make_gdf_from_wfs_request(massgis_base_url, 'massgis:GISDATA.MBTA_NODE')"
   ]
  },
  {
   "cell_type": "code",
   "execution_count": null,
   "id": "b0e19549",
   "metadata": {},
   "outputs": [],
   "source": [
    "stations_gdf.plot()"
   ]
  },
  {
   "cell_type": "code",
   "execution_count": null,
   "id": "6bc507a0",
   "metadata": {},
   "outputs": [],
   "source": [
    "stations_gdf.explore()"
   ]
  },
  {
   "cell_type": "code",
   "execution_count": null,
   "id": "0b49aa67",
   "metadata": {},
   "outputs": [],
   "source": [
    "stations_gdf.head()"
   ]
  },
  {
   "cell_type": "code",
   "execution_count": null,
   "id": "c22fdfd2",
   "metadata": {},
   "outputs": [],
   "source": [
    "# - Query for  Red line stations (remember, some stations carry more than one line!)\n",
    "stations_red = stations_gdf[stations_gdf['line'].str.contains('RED')]"
   ]
  },
  {
   "cell_type": "code",
   "execution_count": null,
   "id": "36b3f830",
   "metadata": {},
   "outputs": [],
   "source": [
    "stations_red.plot()"
   ]
  },
  {
   "cell_type": "code",
   "execution_count": null,
   "id": "1a213a12",
   "metadata": {},
   "outputs": [],
   "source": [
    "# Filter out Mattapan Trolley stations\n",
    "stations_red = stations_red[~stations_red['route'].str.contains('Mattapan')]"
   ]
  },
  {
   "cell_type": "code",
   "execution_count": null,
   "id": "6eaf6cbf",
   "metadata": {},
   "outputs": [],
   "source": [
    "stations_red.plot()"
   ]
  },
  {
   "cell_type": "code",
   "execution_count": null,
   "id": "d6f04e48",
   "metadata": {},
   "outputs": [],
   "source": [
    "# Calculate the quarter-mile service area of each staion\n",
    "quarter_mile_in_meters = 0.25 *  1609.344\n",
    "buf = stations_red.buffer(quarter_mile_in_meters)"
   ]
  },
  {
   "cell_type": "code",
   "execution_count": null,
   "id": "5eddf9ff",
   "metadata": {},
   "outputs": [],
   "source": [
    "buf.head()"
   ]
  },
  {
   "cell_type": "code",
   "execution_count": null,
   "id": "1bfc478a",
   "metadata": {},
   "outputs": [],
   "source": [
    "# 'buf' is a  GeoSeries, turn it into a GeoDataFrame\n",
    "buf_gdf = gp.GeoDataFrame(gp.GeoSeries(buf))\n",
    "buf_gdf = buf_gdf.rename(columns={0:'geometry'}).set_geometry('geometry')"
   ]
  },
  {
   "cell_type": "code",
   "execution_count": null,
   "id": "5f0f8292",
   "metadata": {},
   "outputs": [],
   "source": [
    "buf_gdf.head()"
   ]
  },
  {
   "cell_type": "code",
   "execution_count": null,
   "id": "aaf89200",
   "metadata": {},
   "outputs": [],
   "source": [
    "buf_gdf.explore()"
   ]
  },
  {
   "cell_type": "code",
   "execution_count": null,
   "id": "c2be7d8d",
   "metadata": {},
   "outputs": [],
   "source": [
    "# Dissolve buffers\n",
    "buf_gdf = buf_gdf.dissolve()"
   ]
  },
  {
   "cell_type": "code",
   "execution_count": null,
   "id": "6aebc174",
   "metadata": {},
   "outputs": [],
   "source": [
    "buf_gdf.explore()"
   ]
  },
  {
   "cell_type": "code",
   "execution_count": null,
   "id": "f7e55d32",
   "metadata": {},
   "outputs": [],
   "source": [
    "# Get total of all quarter-mile service areas, in square miles\n",
    "# Recall: SRS of data uses 'meters' as unit of measure\n",
    "sq_meters_to_sq_miles_factor = 0.00000038610\n",
    "buf_gdf['area_sq_mi'] = buf_gdf.area * sq_meters_to_sq_miles_factor"
   ]
  },
  {
   "cell_type": "code",
   "execution_count": null,
   "id": "6e8b2418",
   "metadata": {},
   "outputs": [],
   "source": [
    "buf_gdf"
   ]
  },
  {
   "cell_type": "code",
   "execution_count": null,
   "id": "e43b39f6",
   "metadata": {},
   "outputs": [],
   "source": []
  }
 ],
 "metadata": {
  "kernelspec": {
   "display_name": "Python 3 (ipykernel)",
   "language": "python",
   "name": "python3"
  },
  "language_info": {
   "codemirror_mode": {
    "name": "ipython",
    "version": 3
   },
   "file_extension": ".py",
   "mimetype": "text/x-python",
   "name": "python",
   "nbconvert_exporter": "python",
   "pygments_lexer": "ipython3",
   "version": "3.10.9"
  }
 },
 "nbformat": 4,
 "nbformat_minor": 5
}
